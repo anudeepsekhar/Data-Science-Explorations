{
  "nbformat": 4,
  "nbformat_minor": 0,
  "metadata": {
    "colab": {
      "name": "Cassification-With-Class-Imbalance.ipynb",
      "provenance": [],
      "collapsed_sections": [],
      "authorship_tag": "ABX9TyN2Oxv1PiEmRc+cXaJU2MkI",
      "include_colab_link": true
    },
    "kernelspec": {
      "name": "python3",
      "display_name": "Python 3"
    },
    "accelerator": "GPU"
  },
  "cells": [
    {
      "cell_type": "markdown",
      "metadata": {
        "id": "view-in-github",
        "colab_type": "text"
      },
      "source": [
        "<a href=\"https://colab.research.google.com/github/anudeepsekhar/Data-Science-Explorations/blob/master/Cassification_With_Class_Imbalance.ipynb\" target=\"_parent\"><img src=\"https://colab.research.google.com/assets/colab-badge.svg\" alt=\"Open In Colab\"/></a>"
      ]
    },
    {
      "cell_type": "code",
      "metadata": {
        "id": "KB0EmNpDObMw",
        "colab_type": "code",
        "colab": {
          "base_uri": "https://localhost:8080/",
          "height": 56
        },
        "outputId": "41b3a6b9-ec90-4576-b6e4-146a40e461a2"
      },
      "source": [
        "from google.colab import drive\n",
        "drive.mount('/content/drive')"
      ],
      "execution_count": 35,
      "outputs": [
        {
          "output_type": "stream",
          "text": [
            "Drive already mounted at /content/drive; to attempt to forcibly remount, call drive.mount(\"/content/drive\", force_remount=True).\n"
          ],
          "name": "stdout"
        }
      ]
    },
    {
      "cell_type": "code",
      "metadata": {
        "id": "47SvO_l-Oo5t",
        "colab_type": "code",
        "colab": {
          "base_uri": "https://localhost:8080/",
          "height": 55
        },
        "outputId": "c9f80b9d-5161-40d5-a7b7-0bea8feeb925"
      },
      "source": [
        "%pwd\n",
        "%cd drive/My\\ Drive/data\\ science/project1"
      ],
      "execution_count": 36,
      "outputs": [
        {
          "output_type": "stream",
          "text": [
            "[Errno 2] No such file or directory: 'drive/My Drive/data science/project1'\n",
            "/content/drive/My Drive/data science/project1\n"
          ],
          "name": "stdout"
        }
      ]
    },
    {
      "cell_type": "code",
      "metadata": {
        "id": "6_bLfnVXPG19",
        "colab_type": "code",
        "colab": {}
      },
      "source": [
        "import pandas as pd\n",
        "import numpy as np\n",
        "import matplotlib.pyplot as plt\n",
        "import seaborn as sb"
      ],
      "execution_count": 0,
      "outputs": []
    },
    {
      "cell_type": "code",
      "metadata": {
        "id": "XzjxCdvEPYzP",
        "colab_type": "code",
        "colab": {}
      },
      "source": [
        "df = pd.read_csv('synthetic.csv')"
      ],
      "execution_count": 0,
      "outputs": []
    },
    {
      "cell_type": "code",
      "metadata": {
        "id": "FfHL4EAQPhDy",
        "colab_type": "code",
        "colab": {
          "base_uri": "https://localhost:8080/",
          "height": 319
        },
        "outputId": "dd34dccb-549f-41cb-e67d-76892fb60849"
      },
      "source": [
        "df.hist('y')"
      ],
      "execution_count": 39,
      "outputs": [
        {
          "output_type": "execute_result",
          "data": {
            "text/plain": [
              "array([[<matplotlib.axes._subplots.AxesSubplot object at 0x7fc07576dcc0>]],\n",
              "      dtype=object)"
            ]
          },
          "metadata": {
            "tags": []
          },
          "execution_count": 39
        },
        {
          "output_type": "display_data",
          "data": {
            "image/png": "[encoded data removed]",
            "text/plain": [
              "<Figure size 432x288 with 1 Axes>"
            ]
          },
          "metadata": {
            "tags": []
          }
        }
      ]
    },
    {
      "cell_type": "code",
      "metadata": {
        "id": "wu-SQRE9Qgnn",
        "colab_type": "code",
        "colab": {
          "base_uri": "https://localhost:8080/",
          "height": 226
        },
        "outputId": "439124f2-9f85-48de-cbab-eebb5f2eb664"
      },
      "source": [
        "df.head()"
      ],
      "execution_count": 40,
      "outputs": [
        {
          "output_type": "execute_result",
          "data": {
            "text/html": [
              "<div>\n",
              "<style scoped>\n",
              "    .dataframe tbody tr th:only-of-type {\n",
              "        vertical-align: middle;\n",
              "    }\n",
              "\n",
              "    .dataframe tbody tr th {\n",
              "        vertical-align: top;\n",
              "    }\n",
              "\n",
              "    .dataframe thead th {\n",
              "        text-align: right;\n",
              "    }\n",
              "</style>\n",
              "<table border=\"1\" class=\"dataframe\">\n",
              "  <thead>\n",
              "    <tr style=\"text-align: right;\">\n",
              "      <th></th>\n",
              "      <th>x1</th>\n",
              "      <th>x2</th>\n",
              "      <th>x3</th>\n",
              "      <th>x4</th>\n",
              "      <th>x5</th>\n",
              "      <th>x6</th>\n",
              "      <th>x7</th>\n",
              "      <th>x8</th>\n",
              "      <th>x9</th>\n",
              "      <th>x10</th>\n",
              "      <th>x11</th>\n",
              "      <th>x12</th>\n",
              "      <th>x13</th>\n",
              "      <th>x14</th>\n",
              "      <th>x15</th>\n",
              "      <th>x16</th>\n",
              "      <th>x17</th>\n",
              "      <th>x18</th>\n",
              "      <th>x19</th>\n",
              "      <th>x20</th>\n",
              "      <th>x21</th>\n",
              "      <th>x22</th>\n",
              "      <th>x23</th>\n",
              "      <th>x24</th>\n",
              "      <th>x25</th>\n",
              "      <th>x26</th>\n",
              "      <th>x27</th>\n",
              "      <th>x28</th>\n",
              "      <th>x29</th>\n",
              "      <th>x30</th>\n",
              "      <th>y</th>\n",
              "    </tr>\n",
              "  </thead>\n",
              "  <tbody>\n",
              "    <tr>\n",
              "      <th>0</th>\n",
              "      <td>-14.698830</td>\n",
              "      <td>2.369710</td>\n",
              "      <td>1.089267</td>\n",
              "      <td>-1.262030</td>\n",
              "      <td>-15.650082</td>\n",
              "      <td>-16.665997</td>\n",
              "      <td>15.909853</td>\n",
              "      <td>-11.121045</td>\n",
              "      <td>18.275820</td>\n",
              "      <td>-2.405075</td>\n",
              "      <td>39.351968</td>\n",
              "      <td>1.531488</td>\n",
              "      <td>15.430069</td>\n",
              "      <td>16.915395</td>\n",
              "      <td>33.956933</td>\n",
              "      <td>-3.782350</td>\n",
              "      <td>-12.911483</td>\n",
              "      <td>54.441825</td>\n",
              "      <td>-2.884946</td>\n",
              "      <td>8.236905</td>\n",
              "      <td>3.394184</td>\n",
              "      <td>-5.421817</td>\n",
              "      <td>15.233291</td>\n",
              "      <td>-3.484405</td>\n",
              "      <td>2.755223</td>\n",
              "      <td>9.766386</td>\n",
              "      <td>6.419560</td>\n",
              "      <td>6.618973</td>\n",
              "      <td>15.171849</td>\n",
              "      <td>1.926773</td>\n",
              "      <td>1</td>\n",
              "    </tr>\n",
              "    <tr>\n",
              "      <th>1</th>\n",
              "      <td>-8.457451</td>\n",
              "      <td>2.182712</td>\n",
              "      <td>0.972360</td>\n",
              "      <td>-4.255289</td>\n",
              "      <td>-11.524392</td>\n",
              "      <td>-4.843399</td>\n",
              "      <td>9.557964</td>\n",
              "      <td>-10.145921</td>\n",
              "      <td>6.655710</td>\n",
              "      <td>-2.821156</td>\n",
              "      <td>10.796796</td>\n",
              "      <td>1.205652</td>\n",
              "      <td>23.411830</td>\n",
              "      <td>6.121666</td>\n",
              "      <td>6.909948</td>\n",
              "      <td>1.870118</td>\n",
              "      <td>-10.385600</td>\n",
              "      <td>28.779037</td>\n",
              "      <td>-5.958564</td>\n",
              "      <td>-7.513426</td>\n",
              "      <td>6.394517</td>\n",
              "      <td>-5.398857</td>\n",
              "      <td>20.342647</td>\n",
              "      <td>-5.395054</td>\n",
              "      <td>2.816668</td>\n",
              "      <td>14.932127</td>\n",
              "      <td>9.134028</td>\n",
              "      <td>4.826775</td>\n",
              "      <td>12.077634</td>\n",
              "      <td>3.397375</td>\n",
              "      <td>0</td>\n",
              "    </tr>\n",
              "    <tr>\n",
              "      <th>2</th>\n",
              "      <td>-6.541517</td>\n",
              "      <td>1.263892</td>\n",
              "      <td>-0.494469</td>\n",
              "      <td>-2.562072</td>\n",
              "      <td>-8.979410</td>\n",
              "      <td>-23.632245</td>\n",
              "      <td>15.740920</td>\n",
              "      <td>-4.460916</td>\n",
              "      <td>-16.528412</td>\n",
              "      <td>-3.901285</td>\n",
              "      <td>8.287965</td>\n",
              "      <td>-0.626097</td>\n",
              "      <td>2.678985</td>\n",
              "      <td>2.945680</td>\n",
              "      <td>-1.349470</td>\n",
              "      <td>5.217141</td>\n",
              "      <td>-13.182974</td>\n",
              "      <td>4.052341</td>\n",
              "      <td>0.272782</td>\n",
              "      <td>-7.689550</td>\n",
              "      <td>-4.819011</td>\n",
              "      <td>-5.339781</td>\n",
              "      <td>10.859401</td>\n",
              "      <td>-2.095555</td>\n",
              "      <td>2.945595</td>\n",
              "      <td>14.778588</td>\n",
              "      <td>2.711564</td>\n",
              "      <td>-0.090958</td>\n",
              "      <td>-5.467509</td>\n",
              "      <td>3.088641</td>\n",
              "      <td>0</td>\n",
              "    </tr>\n",
              "    <tr>\n",
              "      <th>3</th>\n",
              "      <td>-18.139840</td>\n",
              "      <td>1.569545</td>\n",
              "      <td>-3.286717</td>\n",
              "      <td>-4.255045</td>\n",
              "      <td>-16.146687</td>\n",
              "      <td>-25.893126</td>\n",
              "      <td>12.005963</td>\n",
              "      <td>-2.228017</td>\n",
              "      <td>5.853151</td>\n",
              "      <td>-2.951831</td>\n",
              "      <td>-2.399183</td>\n",
              "      <td>-2.397347</td>\n",
              "      <td>10.617415</td>\n",
              "      <td>21.014200</td>\n",
              "      <td>38.767072</td>\n",
              "      <td>-9.855020</td>\n",
              "      <td>-14.581631</td>\n",
              "      <td>27.477076</td>\n",
              "      <td>5.910236</td>\n",
              "      <td>13.351203</td>\n",
              "      <td>-5.795252</td>\n",
              "      <td>-5.652446</td>\n",
              "      <td>-8.674892</td>\n",
              "      <td>-9.665123</td>\n",
              "      <td>8.876766</td>\n",
              "      <td>22.335086</td>\n",
              "      <td>10.194627</td>\n",
              "      <td>2.720710</td>\n",
              "      <td>-1.787331</td>\n",
              "      <td>-0.291131</td>\n",
              "      <td>0</td>\n",
              "    </tr>\n",
              "    <tr>\n",
              "      <th>4</th>\n",
              "      <td>-12.500957</td>\n",
              "      <td>2.313632</td>\n",
              "      <td>5.227138</td>\n",
              "      <td>2.586718</td>\n",
              "      <td>-15.022213</td>\n",
              "      <td>-3.105726</td>\n",
              "      <td>18.070314</td>\n",
              "      <td>-7.745197</td>\n",
              "      <td>0.300133</td>\n",
              "      <td>-3.364458</td>\n",
              "      <td>34.566735</td>\n",
              "      <td>-1.298094</td>\n",
              "      <td>23.715586</td>\n",
              "      <td>8.258894</td>\n",
              "      <td>-11.067658</td>\n",
              "      <td>-18.110056</td>\n",
              "      <td>-11.215811</td>\n",
              "      <td>-17.987886</td>\n",
              "      <td>1.365943</td>\n",
              "      <td>-17.533495</td>\n",
              "      <td>-0.966188</td>\n",
              "      <td>-5.551594</td>\n",
              "      <td>13.195368</td>\n",
              "      <td>-5.089818</td>\n",
              "      <td>12.362742</td>\n",
              "      <td>22.624796</td>\n",
              "      <td>4.407471</td>\n",
              "      <td>3.022274</td>\n",
              "      <td>-1.705888</td>\n",
              "      <td>6.650217</td>\n",
              "      <td>0</td>\n",
              "    </tr>\n",
              "  </tbody>\n",
              "</table>\n",
              "</div>"
            ],
            "text/plain": [
              "          x1        x2        x3        x4  ...       x28        x29       x30  y\n",
              "0 -14.698830  2.369710  1.089267 -1.262030  ...  6.618973  15.171849  1.926773  1\n",
              "1  -8.457451  2.182712  0.972360 -4.255289  ...  4.826775  12.077634  3.397375  0\n",
              "2  -6.541517  1.263892 -0.494469 -2.562072  ... -0.090958  -5.467509  3.088641  0\n",
              "3 -18.139840  1.569545 -3.286717 -4.255045  ...  2.720710  -1.787331 -0.291131  0\n",
              "4 -12.500957  2.313632  5.227138  2.586718  ...  3.022274  -1.705888  6.650217  0\n",
              "\n",
              "[5 rows x 31 columns]"
            ]
          },
          "metadata": {
            "tags": []
          },
          "execution_count": 40
        }
      ]
    },
    {
      "cell_type": "code",
      "metadata": {
        "id": "Ko45HYMwPpKy",
        "colab_type": "code",
        "colab": {
          "base_uri": "https://localhost:8080/",
          "height": 277
        },
        "outputId": "3bf1a7ee-d66f-4307-94bd-305a3ec4f72d"
      },
      "source": [
        "df.reset_index().plot.scatter('index','x2',c='y', colormap='viridis')"
      ],
      "execution_count": 41,
      "outputs": [
        {
          "output_type": "execute_result",
          "data": {
            "text/plain": [
              "<matplotlib.axes._subplots.AxesSubplot at 0x7fc07568d8d0>"
            ]
          },
          "metadata": {
            "tags": []
          },
          "execution_count": 41
        },
        {
          "output_type": "display_data",
          "data": {
            "image/png": "[encoded data removed]",
            "text/plain": [
              "<Figure size 432x288 with 2 Axes>"
            ]
          },
          "metadata": {
            "tags": []
          }
        }
      ]
    },
    {
      "cell_type": "code",
      "metadata": {
        "id": "f-Z4R-jpTFr_",
        "colab_type": "code",
        "colab": {}
      },
      "source": [
        "X = df.drop(columns='y')\n",
        "y = df.y"
      ],
      "execution_count": 0,
      "outputs": []
    },
    {
      "cell_type": "code",
      "metadata": {
        "id": "QESsJErLTZ_y",
        "colab_type": "code",
        "colab": {
          "base_uri": "https://localhost:8080/",
          "height": 226
        },
        "outputId": "6e60a8c9-a68a-485a-db50-54629e736f4a"
      },
      "source": [
        "X.head()"
      ],
      "execution_count": 43,
      "outputs": [
        {
          "output_type": "execute_result",
          "data": {
            "text/html": [
              "<div>\n",
              "<style scoped>\n",
              "    .dataframe tbody tr th:only-of-type {\n",
              "        vertical-align: middle;\n",
              "    }\n",
              "\n",
              "    .dataframe tbody tr th {\n",
              "        vertical-align: top;\n",
              "    }\n",
              "\n",
              "    .dataframe thead th {\n",
              "        text-align: right;\n",
              "    }\n",
              "</style>\n",
              "<table border=\"1\" class=\"dataframe\">\n",
              "  <thead>\n",
              "    <tr style=\"text-align: right;\">\n",
              "      <th></th>\n",
              "      <th>x1</th>\n",
              "      <th>x2</th>\n",
              "      <th>x3</th>\n",
              "      <th>x4</th>\n",
              "      <th>x5</th>\n",
              "      <th>x6</th>\n",
              "      <th>x7</th>\n",
              "      <th>x8</th>\n",
              "      <th>x9</th>\n",
              "      <th>x10</th>\n",
              "      <th>x11</th>\n",
              "      <th>x12</th>\n",
              "      <th>x13</th>\n",
              "      <th>x14</th>\n",
              "      <th>x15</th>\n",
              "      <th>x16</th>\n",
              "      <th>x17</th>\n",
              "      <th>x18</th>\n",
              "      <th>x19</th>\n",
              "      <th>x20</th>\n",
              "      <th>x21</th>\n",
              "      <th>x22</th>\n",
              "      <th>x23</th>\n",
              "      <th>x24</th>\n",
              "      <th>x25</th>\n",
              "      <th>x26</th>\n",
              "      <th>x27</th>\n",
              "      <th>x28</th>\n",
              "      <th>x29</th>\n",
              "      <th>x30</th>\n",
              "    </tr>\n",
              "  </thead>\n",
              "  <tbody>\n",
              "    <tr>\n",
              "      <th>0</th>\n",
              "      <td>-14.698830</td>\n",
              "      <td>2.369710</td>\n",
              "      <td>1.089267</td>\n",
              "      <td>-1.262030</td>\n",
              "      <td>-15.650082</td>\n",
              "      <td>-16.665997</td>\n",
              "      <td>15.909853</td>\n",
              "      <td>-11.121045</td>\n",
              "      <td>18.275820</td>\n",
              "      <td>-2.405075</td>\n",
              "      <td>39.351968</td>\n",
              "      <td>1.531488</td>\n",
              "      <td>15.430069</td>\n",
              "      <td>16.915395</td>\n",
              "      <td>33.956933</td>\n",
              "      <td>-3.782350</td>\n",
              "      <td>-12.911483</td>\n",
              "      <td>54.441825</td>\n",
              "      <td>-2.884946</td>\n",
              "      <td>8.236905</td>\n",
              "      <td>3.394184</td>\n",
              "      <td>-5.421817</td>\n",
              "      <td>15.233291</td>\n",
              "      <td>-3.484405</td>\n",
              "      <td>2.755223</td>\n",
              "      <td>9.766386</td>\n",
              "      <td>6.419560</td>\n",
              "      <td>6.618973</td>\n",
              "      <td>15.171849</td>\n",
              "      <td>1.926773</td>\n",
              "    </tr>\n",
              "    <tr>\n",
              "      <th>1</th>\n",
              "      <td>-8.457451</td>\n",
              "      <td>2.182712</td>\n",
              "      <td>0.972360</td>\n",
              "      <td>-4.255289</td>\n",
              "      <td>-11.524392</td>\n",
              "      <td>-4.843399</td>\n",
              "      <td>9.557964</td>\n",
              "      <td>-10.145921</td>\n",
              "      <td>6.655710</td>\n",
              "      <td>-2.821156</td>\n",
              "      <td>10.796796</td>\n",
              "      <td>1.205652</td>\n",
              "      <td>23.411830</td>\n",
              "      <td>6.121666</td>\n",
              "      <td>6.909948</td>\n",
              "      <td>1.870118</td>\n",
              "      <td>-10.385600</td>\n",
              "      <td>28.779037</td>\n",
              "      <td>-5.958564</td>\n",
              "      <td>-7.513426</td>\n",
              "      <td>6.394517</td>\n",
              "      <td>-5.398857</td>\n",
              "      <td>20.342647</td>\n",
              "      <td>-5.395054</td>\n",
              "      <td>2.816668</td>\n",
              "      <td>14.932127</td>\n",
              "      <td>9.134028</td>\n",
              "      <td>4.826775</td>\n",
              "      <td>12.077634</td>\n",
              "      <td>3.397375</td>\n",
              "    </tr>\n",
              "    <tr>\n",
              "      <th>2</th>\n",
              "      <td>-6.541517</td>\n",
              "      <td>1.263892</td>\n",
              "      <td>-0.494469</td>\n",
              "      <td>-2.562072</td>\n",
              "      <td>-8.979410</td>\n",
              "      <td>-23.632245</td>\n",
              "      <td>15.740920</td>\n",
              "      <td>-4.460916</td>\n",
              "      <td>-16.528412</td>\n",
              "      <td>-3.901285</td>\n",
              "      <td>8.287965</td>\n",
              "      <td>-0.626097</td>\n",
              "      <td>2.678985</td>\n",
              "      <td>2.945680</td>\n",
              "      <td>-1.349470</td>\n",
              "      <td>5.217141</td>\n",
              "      <td>-13.182974</td>\n",
              "      <td>4.052341</td>\n",
              "      <td>0.272782</td>\n",
              "      <td>-7.689550</td>\n",
              "      <td>-4.819011</td>\n",
              "      <td>-5.339781</td>\n",
              "      <td>10.859401</td>\n",
              "      <td>-2.095555</td>\n",
              "      <td>2.945595</td>\n",
              "      <td>14.778588</td>\n",
              "      <td>2.711564</td>\n",
              "      <td>-0.090958</td>\n",
              "      <td>-5.467509</td>\n",
              "      <td>3.088641</td>\n",
              "    </tr>\n",
              "    <tr>\n",
              "      <th>3</th>\n",
              "      <td>-18.139840</td>\n",
              "      <td>1.569545</td>\n",
              "      <td>-3.286717</td>\n",
              "      <td>-4.255045</td>\n",
              "      <td>-16.146687</td>\n",
              "      <td>-25.893126</td>\n",
              "      <td>12.005963</td>\n",
              "      <td>-2.228017</td>\n",
              "      <td>5.853151</td>\n",
              "      <td>-2.951831</td>\n",
              "      <td>-2.399183</td>\n",
              "      <td>-2.397347</td>\n",
              "      <td>10.617415</td>\n",
              "      <td>21.014200</td>\n",
              "      <td>38.767072</td>\n",
              "      <td>-9.855020</td>\n",
              "      <td>-14.581631</td>\n",
              "      <td>27.477076</td>\n",
              "      <td>5.910236</td>\n",
              "      <td>13.351203</td>\n",
              "      <td>-5.795252</td>\n",
              "      <td>-5.652446</td>\n",
              "      <td>-8.674892</td>\n",
              "      <td>-9.665123</td>\n",
              "      <td>8.876766</td>\n",
              "      <td>22.335086</td>\n",
              "      <td>10.194627</td>\n",
              "      <td>2.720710</td>\n",
              "      <td>-1.787331</td>\n",
              "      <td>-0.291131</td>\n",
              "    </tr>\n",
              "    <tr>\n",
              "      <th>4</th>\n",
              "      <td>-12.500957</td>\n",
              "      <td>2.313632</td>\n",
              "      <td>5.227138</td>\n",
              "      <td>2.586718</td>\n",
              "      <td>-15.022213</td>\n",
              "      <td>-3.105726</td>\n",
              "      <td>18.070314</td>\n",
              "      <td>-7.745197</td>\n",
              "      <td>0.300133</td>\n",
              "      <td>-3.364458</td>\n",
              "      <td>34.566735</td>\n",
              "      <td>-1.298094</td>\n",
              "      <td>23.715586</td>\n",
              "      <td>8.258894</td>\n",
              "      <td>-11.067658</td>\n",
              "      <td>-18.110056</td>\n",
              "      <td>-11.215811</td>\n",
              "      <td>-17.987886</td>\n",
              "      <td>1.365943</td>\n",
              "      <td>-17.533495</td>\n",
              "      <td>-0.966188</td>\n",
              "      <td>-5.551594</td>\n",
              "      <td>13.195368</td>\n",
              "      <td>-5.089818</td>\n",
              "      <td>12.362742</td>\n",
              "      <td>22.624796</td>\n",
              "      <td>4.407471</td>\n",
              "      <td>3.022274</td>\n",
              "      <td>-1.705888</td>\n",
              "      <td>6.650217</td>\n",
              "    </tr>\n",
              "  </tbody>\n",
              "</table>\n",
              "</div>"
            ],
            "text/plain": [
              "          x1        x2        x3  ...       x28        x29       x30\n",
              "0 -14.698830  2.369710  1.089267  ...  6.618973  15.171849  1.926773\n",
              "1  -8.457451  2.182712  0.972360  ...  4.826775  12.077634  3.397375\n",
              "2  -6.541517  1.263892 -0.494469  ... -0.090958  -5.467509  3.088641\n",
              "3 -18.139840  1.569545 -3.286717  ...  2.720710  -1.787331 -0.291131\n",
              "4 -12.500957  2.313632  5.227138  ...  3.022274  -1.705888  6.650217\n",
              "\n",
              "[5 rows x 30 columns]"
            ]
          },
          "metadata": {
            "tags": []
          },
          "execution_count": 43
        }
      ]
    },
    {
      "cell_type": "code",
      "metadata": {
        "id": "bpYTJV51TfgX",
        "colab_type": "code",
        "colab": {
          "base_uri": "https://localhost:8080/",
          "height": 130
        },
        "outputId": "a3c3ebd9-b0d5-405b-e80a-79359614a74c"
      },
      "source": [
        "y.head()"
      ],
      "execution_count": 44,
      "outputs": [
        {
          "output_type": "execute_result",
          "data": {
            "text/plain": [
              "0    1\n",
              "1    0\n",
              "2    0\n",
              "3    0\n",
              "4    0\n",
              "Name: y, dtype: int64"
            ]
          },
          "metadata": {
            "tags": []
          },
          "execution_count": 44
        }
      ]
    },
    {
      "cell_type": "code",
      "metadata": {
        "id": "rbjuaL27S04b",
        "colab_type": "code",
        "colab": {
          "base_uri": "https://localhost:8080/",
          "height": 75
        },
        "outputId": "ea1e6112-666c-4269-96a1-21baba3d3ddc"
      },
      "source": [
        "from imblearn.over_sampling import SMOTE\n",
        "\n",
        "smote = SMOTE(ratio='minority')\n",
        "X_sm, y_sm = smote.fit_sample(X, y)"
      ],
      "execution_count": 45,
      "outputs": [
        {
          "output_type": "stream",
          "text": [
            "/usr/local/lib/python3.6/dist-packages/sklearn/utils/deprecation.py:87: FutureWarning: Function safe_indexing is deprecated; safe_indexing is deprecated in version 0.22 and will be removed in version 0.24.\n",
            "  warnings.warn(msg, category=FutureWarning)\n"
          ],
          "name": "stderr"
        }
      ]
    },
    {
      "cell_type": "code",
      "metadata": {
        "id": "7CdK1lbqTpNi",
        "colab_type": "code",
        "colab": {
          "base_uri": "https://localhost:8080/",
          "height": 319
        },
        "outputId": "bad18382-da17-430d-85d6-92f0ecf4b9ee"
      },
      "source": [
        "pd.DataFrame(y_sm).hist()"
      ],
      "execution_count": 46,
      "outputs": [
        {
          "output_type": "execute_result",
          "data": {
            "text/plain": [
              "array([[<matplotlib.axes._subplots.AxesSubplot object at 0x7fc0755cf6a0>]],\n",
              "      dtype=object)"
            ]
          },
          "metadata": {
            "tags": []
          },
          "execution_count": 46
        },
        {
          "output_type": "display_data",
          "data": {
            "image/png": "[encoded data removed]",
            "text/plain": [
              "<Figure size 432x288 with 1 Axes>"
            ]
          },
          "metadata": {
            "tags": []
          }
        }
      ]
    },
    {
      "cell_type": "code",
      "metadata": {
        "id": "dVAnKhJlisAn",
        "colab_type": "code",
        "colab": {
          "base_uri": "https://localhost:8080/",
          "height": 414
        },
        "outputId": "ec3db9e3-ccb5-42e6-99a2-c2fd5ae3b3ce"
      },
      "source": [
        "from imblearn.combine import SMOTETomek\n",
        "\n",
        "smt = SMOTETomek(ratio='auto')\n",
        "X_smt, y_smt = smt.fit_sample(X, y)\n",
        "\n",
        "pd.DataFrame(y_smt).hist()"
      ],
      "execution_count": 47,
      "outputs": [
        {
          "output_type": "stream",
          "text": [
            "/usr/local/lib/python3.6/dist-packages/sklearn/utils/deprecation.py:87: FutureWarning: Function safe_indexing is deprecated; safe_indexing is deprecated in version 0.22 and will be removed in version 0.24.\n",
            "  warnings.warn(msg, category=FutureWarning)\n",
            "/usr/local/lib/python3.6/dist-packages/sklearn/utils/deprecation.py:87: FutureWarning: Function safe_indexing is deprecated; safe_indexing is deprecated in version 0.22 and will be removed in version 0.24.\n",
            "  warnings.warn(msg, category=FutureWarning)\n"
          ],
          "name": "stderr"
        },
        {
          "output_type": "execute_result",
          "data": {
            "text/plain": [
              "array([[<matplotlib.axes._subplots.AxesSubplot object at 0x7fc075634668>]],\n",
              "      dtype=object)"
            ]
          },
          "metadata": {
            "tags": []
          },
          "execution_count": 47
        },
        {
          "output_type": "display_data",
          "data": {
            "image/png": "[encoded data removed]",
            "text/plain": [
              "<Figure size 432x288 with 1 Axes>"
            ]
          },
          "metadata": {
            "tags": []
          }
        }
      ]
    },
    {
      "cell_type": "code",
      "metadata": {
        "id": "7GGoPjV3XV-4",
        "colab_type": "code",
        "colab": {}
      },
      "source": [
        "from sklearn.model_selection import train_test_split"
      ],
      "execution_count": 0,
      "outputs": []
    },
    {
      "cell_type": "code",
      "metadata": {
        "id": "2lglAzRhXXTj",
        "colab_type": "code",
        "colab": {}
      },
      "source": [
        "X_train, X_test, y_train, y_test = train_test_split(X_smt, y_smt, test_size=0.2, random_state=3)"
      ],
      "execution_count": 0,
      "outputs": []
    },
    {
      "cell_type": "code",
      "metadata": {
        "id": "e3x0hNmPU-ZE",
        "colab_type": "code",
        "colab": {}
      },
      "source": [
        "from sklearn.pipeline import make_pipeline\n",
        "from sklearn import preprocessing\n",
        "from sklearn.model_selection import cross_val_score\n",
        "from sklearn import svm\n",
        "from sklearn.decomposition import PCA\n",
        "from sklearn.ensemble import RandomForestClassifier"
      ],
      "execution_count": 0,
      "outputs": []
    },
    {
      "cell_type": "code",
      "metadata": {
        "id": "_F8Lc3_iWByI",
        "colab_type": "code",
        "colab": {}
      },
      "source": [
        "classifier_pipeline = make_pipeline(preprocessing.StandardScaler(), svm.SVC(C=1))"
      ],
      "execution_count": 0,
      "outputs": []
    },
    {
      "cell_type": "code",
      "metadata": {
        "id": "ElpGOo_FWC_s",
        "colab_type": "code",
        "colab": {}
      },
      "source": [
        "scores = cross_val_score(classifier_pipeline, X_train, y_train, cv=10)"
      ],
      "execution_count": 0,
      "outputs": []
    },
    {
      "cell_type": "code",
      "metadata": {
        "id": "PisaAj8zfFET",
        "colab_type": "code",
        "colab": {
          "base_uri": "https://localhost:8080/",
          "height": 55
        },
        "outputId": "6eec1d1b-a0d0-426c-c0c0-1ca428bde32e"
      },
      "source": [
        "scores"
      ],
      "execution_count": 53,
      "outputs": [
        {
          "output_type": "execute_result",
          "data": {
            "text/plain": [
              "array([0.95620438, 0.94160584, 0.94160584, 0.94890511, 0.9270073 ,\n",
              "       0.89781022, 0.91970803, 0.96350365, 0.88970588, 0.92647059])"
            ]
          },
          "metadata": {
            "tags": []
          },
          "execution_count": 53
        }
      ]
    },
    {
      "cell_type": "code",
      "metadata": {
        "id": "Pjya-JQaW_vv",
        "colab_type": "code",
        "colab": {
          "base_uri": "https://localhost:8080/",
          "height": 36
        },
        "outputId": "271fced3-7e76-4968-f317-09d40b1d7dbc"
      },
      "source": [
        "scores.mean()"
      ],
      "execution_count": 54,
      "outputs": [
        {
          "output_type": "execute_result",
          "data": {
            "text/plain": [
              "0.931252683555174"
            ]
          },
          "metadata": {
            "tags": []
          },
          "execution_count": 54
        }
      ]
    },
    {
      "cell_type": "code",
      "metadata": {
        "id": "R8QJ7JYEeSCI",
        "colab_type": "code",
        "colab": {}
      },
      "source": [
        "clf = RandomForestClassifier(max_depth=20, random_state=3, n_estimators=400,n_jobs=-1)"
      ],
      "execution_count": 0,
      "outputs": []
    },
    {
      "cell_type": "code",
      "metadata": {
        "id": "72WTjRkGeDlv",
        "colab_type": "code",
        "colab": {}
      },
      "source": [
        "classifier_pipeline_2 = make_pipeline(preprocessing.StandardScaler(), clf)"
      ],
      "execution_count": 0,
      "outputs": []
    },
    {
      "cell_type": "code",
      "metadata": {
        "id": "d4ZDnulyebTq",
        "colab_type": "code",
        "colab": {}
      },
      "source": [
        "scores = cross_val_score(classifier_pipeline_2, X_train, y_train, cv=10)"
      ],
      "execution_count": 0,
      "outputs": []
    },
    {
      "cell_type": "code",
      "metadata": {
        "id": "M8iA4_DGefM2",
        "colab_type": "code",
        "colab": {
          "base_uri": "https://localhost:8080/",
          "height": 36
        },
        "outputId": "2b656be9-337b-4768-cf6d-441cdd48e8f7"
      },
      "source": [
        "scores.mean()"
      ],
      "execution_count": 87,
      "outputs": [
        {
          "output_type": "execute_result",
          "data": {
            "text/plain": [
              "0.9371189351653069"
            ]
          },
          "metadata": {
            "tags": []
          },
          "execution_count": 87
        }
      ]
    },
    {
      "cell_type": "code",
      "metadata": {
        "id": "Gy5FKf28XHth",
        "colab_type": "code",
        "colab": {}
      },
      "source": [
        "from sklearn.metrics import classification_report\n",
        "from sklearn.metrics import confusion_matrix"
      ],
      "execution_count": 0,
      "outputs": []
    },
    {
      "cell_type": "code",
      "metadata": {
        "id": "RlzGVBzaY7OI",
        "colab_type": "code",
        "colab": {
          "base_uri": "https://localhost:8080/",
          "height": 317
        },
        "outputId": "d9e266dd-9f04-4351-dd87-238e065aab6c"
      },
      "source": [
        "classifier_pipeline_2.fit(X_train,y_train)"
      ],
      "execution_count": 88,
      "outputs": [
        {
          "output_type": "execute_result",
          "data": {
            "text/plain": [
              "Pipeline(memory=None,\n",
              "         steps=[('standardscaler',\n",
              "                 StandardScaler(copy=True, with_mean=True, with_std=True)),\n",
              "                ('randomforestclassifier',\n",
              "                 RandomForestClassifier(bootstrap=True, ccp_alpha=0.0,\n",
              "                                        class_weight=None, criterion='gini',\n",
              "                                        max_depth=20, max_features='auto',\n",
              "                                        max_leaf_nodes=None, max_samples=None,\n",
              "                                        min_impurity_decrease=0.0,\n",
              "                                        min_impurity_split=None,\n",
              "                                        min_samples_leaf=1, min_samples_split=2,\n",
              "                                        min_weight_fraction_leaf=0.0,\n",
              "                                        n_estimators=400, n_jobs=-1,\n",
              "                                        oob_score=False, random_state=3,\n",
              "                                        verbose=0, warm_start=False))],\n",
              "         verbose=False)"
            ]
          },
          "metadata": {
            "tags": []
          },
          "execution_count": 88
        }
      ]
    },
    {
      "cell_type": "code",
      "metadata": {
        "id": "kT30Gsmda5Gb",
        "colab_type": "code",
        "colab": {}
      },
      "source": [
        "y_pred = classifier_pipeline_2.predict(X_test)"
      ],
      "execution_count": 0,
      "outputs": []
    },
    {
      "cell_type": "code",
      "metadata": {
        "id": "YbYEkTI8XtjO",
        "colab_type": "code",
        "colab": {
          "base_uri": "https://localhost:8080/",
          "height": 186
        },
        "outputId": "e263a0e5-5691-401a-deca-d4351d6184e8"
      },
      "source": [
        "target_names = ['class 0', 'class 1']\n",
        "print(classification_report(y_test, y_pred, target_names=target_names))"
      ],
      "execution_count": 92,
      "outputs": [
        {
          "output_type": "stream",
          "text": [
            "              precision    recall  f1-score   support\n",
            "\n",
            "     class 0       0.96      0.95      0.96       172\n",
            "     class 1       0.95      0.96      0.96       170\n",
            "\n",
            "    accuracy                           0.96       342\n",
            "   macro avg       0.96      0.96      0.96       342\n",
            "weighted avg       0.96      0.96      0.96       342\n",
            "\n"
          ],
          "name": "stdout"
        }
      ]
    },
    {
      "cell_type": "code",
      "metadata": {
        "id": "XjIVdye2kmHC",
        "colab_type": "code",
        "colab": {
          "base_uri": "https://localhost:8080/",
          "height": 55
        },
        "outputId": "b94b957c-364e-438a-a9dc-e0247bbf79d3"
      },
      "source": [
        "confusion_matrix(y_test, y_pred)"
      ],
      "execution_count": 63,
      "outputs": [
        {
          "output_type": "execute_result",
          "data": {
            "text/plain": [
              "array([[160,  12],\n",
              "       [  5, 165]])"
            ]
          },
          "metadata": {
            "tags": []
          },
          "execution_count": 63
        }
      ]
    },
    {
      "cell_type": "code",
      "metadata": {
        "id": "kh-J2eQBnlyt",
        "colab_type": "code",
        "colab": {
          "base_uri": "https://localhost:8080/",
          "height": 36
        },
        "outputId": "63d91300-e2e3-4637-97f6-b63149e09e33"
      },
      "source": [
        "tn, fp, fn, tp = confusion_matrix(y_test, y_pred).ravel()\n",
        "(tn, fp, fn, tp)"
      ],
      "execution_count": 64,
      "outputs": [
        {
          "output_type": "execute_result",
          "data": {
            "text/plain": [
              "(160, 12, 5, 165)"
            ]
          },
          "metadata": {
            "tags": []
          },
          "execution_count": 64
        }
      ]
    }
  ]
}